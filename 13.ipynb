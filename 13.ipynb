{
 "cells": [
  {
   "cell_type": "code",
   "execution_count": 1,
   "id": "81dcf154",
   "metadata": {},
   "outputs": [],
   "source": [
    "import numpy as np \n",
    "import pandas as pd \n",
    "import matplotlib.pyplot as plt\n",
    "import seaborn as sns"
   ]
  },
  {
   "cell_type": "code",
   "execution_count": 2,
   "id": "f17f88f6",
   "metadata": {},
   "outputs": [
    {
     "data": {
      "text/html": [
       "<div>\n",
       "<style scoped>\n",
       "    .dataframe tbody tr th:only-of-type {\n",
       "        vertical-align: middle;\n",
       "    }\n",
       "\n",
       "    .dataframe tbody tr th {\n",
       "        vertical-align: top;\n",
       "    }\n",
       "\n",
       "    .dataframe thead th {\n",
       "        text-align: right;\n",
       "    }\n",
       "</style>\n",
       "<table border=\"1\" class=\"dataframe\">\n",
       "  <thead>\n",
       "    <tr style=\"text-align: right;\">\n",
       "      <th></th>\n",
       "      <th>Brand Name</th>\n",
       "      <th>Device Type</th>\n",
       "      <th>Model Name</th>\n",
       "      <th>Color</th>\n",
       "      <th>Selling Price</th>\n",
       "      <th>Original Price</th>\n",
       "      <th>Display</th>\n",
       "      <th>Rating (Out of 5)</th>\n",
       "      <th>Strap Material</th>\n",
       "      <th>Average Battery Life (in days)</th>\n",
       "      <th>Reviews</th>\n",
       "    </tr>\n",
       "  </thead>\n",
       "  <tbody>\n",
       "    <tr>\n",
       "      <th>0</th>\n",
       "      <td>Xiaomi</td>\n",
       "      <td>FitnessBand</td>\n",
       "      <td>Smart Band 5</td>\n",
       "      <td>Black</td>\n",
       "      <td>2499</td>\n",
       "      <td>2999</td>\n",
       "      <td>AMOLED Display</td>\n",
       "      <td>4.1</td>\n",
       "      <td>Thermoplastic polyurethane</td>\n",
       "      <td>14</td>\n",
       "      <td>NaN</td>\n",
       "    </tr>\n",
       "    <tr>\n",
       "      <th>1</th>\n",
       "      <td>Xiaomi</td>\n",
       "      <td>FitnessBand</td>\n",
       "      <td>Smart Band 4</td>\n",
       "      <td>Black</td>\n",
       "      <td>2099</td>\n",
       "      <td>2499</td>\n",
       "      <td>AMOLED Display</td>\n",
       "      <td>4.2</td>\n",
       "      <td>Thermoplastic polyurethane</td>\n",
       "      <td>14</td>\n",
       "      <td>NaN</td>\n",
       "    </tr>\n",
       "    <tr>\n",
       "      <th>2</th>\n",
       "      <td>Xiaomi</td>\n",
       "      <td>FitnessBand</td>\n",
       "      <td>HMSH01GE</td>\n",
       "      <td>Black</td>\n",
       "      <td>1722</td>\n",
       "      <td>2099</td>\n",
       "      <td>LCD Display</td>\n",
       "      <td>3.5</td>\n",
       "      <td>Leather</td>\n",
       "      <td>14</td>\n",
       "      <td>NaN</td>\n",
       "    </tr>\n",
       "    <tr>\n",
       "      <th>3</th>\n",
       "      <td>Xiaomi</td>\n",
       "      <td>FitnessBand</td>\n",
       "      <td>Smart Band 5</td>\n",
       "      <td>Black</td>\n",
       "      <td>2469</td>\n",
       "      <td>2999</td>\n",
       "      <td>AMOLED Display</td>\n",
       "      <td>4.1</td>\n",
       "      <td>Thermoplastic polyurethane</td>\n",
       "      <td>14</td>\n",
       "      <td>NaN</td>\n",
       "    </tr>\n",
       "    <tr>\n",
       "      <th>4</th>\n",
       "      <td>Xiaomi</td>\n",
       "      <td>FitnessBand</td>\n",
       "      <td>Band 3</td>\n",
       "      <td>Black</td>\n",
       "      <td>1799</td>\n",
       "      <td>2199</td>\n",
       "      <td>OLED Display</td>\n",
       "      <td>4.3</td>\n",
       "      <td>Plastic</td>\n",
       "      <td>7</td>\n",
       "      <td>NaN</td>\n",
       "    </tr>\n",
       "  </tbody>\n",
       "</table>\n",
       "</div>"
      ],
      "text/plain": [
       "  Brand Name  Device Type    Model Name  Color  Selling Price  Original Price  \\\n",
       "0     Xiaomi  FitnessBand  Smart Band 5  Black           2499            2999   \n",
       "1     Xiaomi  FitnessBand  Smart Band 4  Black           2099            2499   \n",
       "2     Xiaomi  FitnessBand      HMSH01GE  Black           1722            2099   \n",
       "3     Xiaomi  FitnessBand  Smart Band 5  Black           2469            2999   \n",
       "4     Xiaomi  FitnessBand        Band 3  Black           1799            2199   \n",
       "\n",
       "          Display  Rating (Out of 5)              Strap Material  \\\n",
       "0  AMOLED Display                4.1  Thermoplastic polyurethane   \n",
       "1  AMOLED Display                4.2  Thermoplastic polyurethane   \n",
       "2     LCD Display                3.5                     Leather   \n",
       "3  AMOLED Display                4.1  Thermoplastic polyurethane   \n",
       "4    OLED Display                4.3                     Plastic   \n",
       "\n",
       "   Average Battery Life (in days)  Reviews  \n",
       "0                              14      NaN  \n",
       "1                              14      NaN  \n",
       "2                              14      NaN  \n",
       "3                              14      NaN  \n",
       "4                               7      NaN  "
      ]
     },
     "execution_count": 2,
     "metadata": {},
     "output_type": "execute_result"
    }
   ],
   "source": [
    "df = pd.read_csv('./Fitness_trackers.csv', thousands=',')\n",
    "df.head()"
   ]
  },
  {
   "cell_type": "code",
   "execution_count": 3,
   "id": "ecc7e9f2",
   "metadata": {},
   "outputs": [
    {
     "name": "stdout",
     "output_type": "stream",
     "text": [
      "<class 'pandas.core.frame.DataFrame'>\n",
      "RangeIndex: 565 entries, 0 to 564\n",
      "Data columns (total 11 columns):\n",
      " #   Column                          Non-Null Count  Dtype  \n",
      "---  ------                          --------------  -----  \n",
      " 0   Brand Name                      565 non-null    object \n",
      " 1   Device Type                     565 non-null    object \n",
      " 2   Model Name                      565 non-null    object \n",
      " 3   Color                           565 non-null    object \n",
      " 4   Selling Price                   565 non-null    int64  \n",
      " 5   Original Price                  565 non-null    int64  \n",
      " 6   Display                         565 non-null    object \n",
      " 7   Rating (Out of 5)               514 non-null    float64\n",
      " 8   Strap Material                  565 non-null    object \n",
      " 9   Average Battery Life (in days)  565 non-null    int64  \n",
      " 10  Reviews                         78 non-null     float64\n",
      "dtypes: float64(2), int64(3), object(6)\n",
      "memory usage: 48.7+ KB\n"
     ]
    }
   ],
   "source": [
    "df.info()"
   ]
  },
  {
   "cell_type": "code",
   "execution_count": 4,
   "id": "22d2bddf",
   "metadata": {},
   "outputs": [
    {
     "data": {
      "text/plain": [
       "Reviews                           487\n",
       "Rating (Out of 5)                  51\n",
       "Brand Name                          0\n",
       "Device Type                         0\n",
       "Model Name                          0\n",
       "Color                               0\n",
       "Selling Price                       0\n",
       "Original Price                      0\n",
       "Display                             0\n",
       "Strap Material                      0\n",
       "Average Battery Life (in days)      0\n",
       "dtype: int64"
      ]
     },
     "execution_count": 4,
     "metadata": {},
     "output_type": "execute_result"
    }
   ],
   "source": [
    "df.isna().sum().sort_values(ascending=False)"
   ]
  },
  {
   "cell_type": "code",
   "execution_count": 5,
   "id": "fed8edf2",
   "metadata": {},
   "outputs": [
    {
     "data": {
      "text/plain": [
       "4.2"
      ]
     },
     "execution_count": 5,
     "metadata": {},
     "output_type": "execute_result"
    }
   ],
   "source": [
    "mean = df['Rating (Out of 5)'].mean().round(1)\n",
    "mean"
   ]
  },
  {
   "cell_type": "code",
   "execution_count": 6,
   "id": "bd554512",
   "metadata": {},
   "outputs": [],
   "source": [
    "df = df.fillna({'Rating (Out of 5)': mean})\n",
    "df = df.drop('Reviews',axis=1)"
   ]
  },
  {
   "cell_type": "code",
   "execution_count": 7,
   "id": "880a0c9b",
   "metadata": {},
   "outputs": [
    {
     "data": {
      "text/plain": [
       "Device Type\n",
       "Smartwatch     490\n",
       "FitnessBand     75\n",
       "Name: Brand Name, dtype: int64"
      ]
     },
     "execution_count": 7,
     "metadata": {},
     "output_type": "execute_result"
    }
   ],
   "source": [
    "df['Brand Name'].groupby(df['Device Type']).count().sort_values(ascending=False)"
   ]
  },
  {
   "cell_type": "code",
   "execution_count": 8,
   "id": "60c28483",
   "metadata": {},
   "outputs": [
    {
     "data": {
      "image/png": "[encoded data removed]",
      "text/plain": [
       "<Figure size 640x480 with 1 Axes>"
      ]
     },
     "metadata": {},
     "output_type": "display_data"
    }
   ],
   "source": [
    "df[\"Device Type\"].value_counts().plot(kind=\"bar\")\n",
    "plt.grid()"
   ]
  },
  {
   "cell_type": "code",
   "execution_count": 9,
   "id": "deda7756",
   "metadata": {},
   "outputs": [
    {
     "data": {
      "image/png": "[encoded data removed]",
      "text/plain": [
       "<Figure size 640x480 with 1 Axes>"
      ]
     },
     "metadata": {},
     "output_type": "display_data"
    }
   ],
   "source": [
    "plt.pie(\n",
    "    df['Brand Name'].value_counts()[0:5], \n",
    "    labels=df['Brand Name'].unique()[0:5], \n",
    "    autopct='%1.1f%%'\n",
    ")\n",
    "plt.show()"
   ]
  },
  {
   "cell_type": "code",
   "execution_count": 10,
   "id": "e99d3d90",
   "metadata": {},
   "outputs": [
    {
     "data": {
      "text/plain": [
       "Brand Name\n",
       "FOSSIL      133\n",
       "GARMIN      101\n",
       "APPLE        86\n",
       "FitBit       51\n",
       "SAMSUNG      48\n",
       "huami        36\n",
       "Huawei       26\n",
       "Honor        20\n",
       "Noise        17\n",
       "realme       12\n",
       "Xiaomi       10\n",
       "Fastrack      6\n",
       "GOQii         4\n",
       "boAt          4\n",
       "OnePlus       3\n",
       "Noise         2\n",
       "Oppo          2\n",
       "LCARE         2\n",
       "LAVA          1\n",
       "Infinix       1\n",
       "Name: Brand Name, dtype: int64"
      ]
     },
     "execution_count": 10,
     "metadata": {},
     "output_type": "execute_result"
    }
   ],
   "source": [
    "df['Brand Name'].groupby(df['Brand Name']).count().sort_values(ascending=False)"
   ]
  },
  {
   "cell_type": "code",
   "execution_count": 11,
   "id": "4dcaecfe",
   "metadata": {},
   "outputs": [
    {
     "data": {
      "text/plain": [
       "<Axes: xlabel='count', ylabel='Brand Name'>"
      ]
     },
     "execution_count": 11,
     "metadata": {},
     "output_type": "execute_result"
    },
    {
     "data": {
      "image/png": "[encoded data removed]",
      "text/plain": [
       "<Figure size 640x480 with 1 Axes>"
      ]
     },
     "metadata": {},
     "output_type": "display_data"
    }
   ],
   "source": [
    "sns.set_style('white')\n",
    "sns.countplot(y=\"Brand Name\", hue=\"Device Type\", data=df, palette=[\"#560bad\",\"#4361EE\"],\n",
    "              order=df[\"Brand Name\"].value_counts().iloc[:5].index)"
   ]
  },
  {
   "cell_type": "code",
   "execution_count": 12,
   "id": "cc28e3ba",
   "metadata": {},
   "outputs": [
    {
     "data": {
      "text/plain": [
       "Color\n",
       "Black        193\n",
       "Blue          30\n",
       "Silver        25\n",
       "Grey          21\n",
       "Gold          20\n",
       "White         17\n",
       "Brown         13\n",
       "Red           10\n",
       "Black          8\n",
       "Pink Sand      7\n",
       "Name: Color, dtype: int64"
      ]
     },
     "execution_count": 12,
     "metadata": {},
     "output_type": "execute_result"
    }
   ],
   "source": [
    "df.groupby('Brand Name')['Rating (Out of 5)'].mean().sort_values(ascending=False).iloc[:10]\n",
    "df.groupby('Brand Name')['Average Battery Life (in days)'].mean().sort_values(ascending=False).iloc[:10]\n",
    "df['Color'].groupby(df['Color']).count().sort_values(ascending=False).iloc[:10]"
   ]
  },
  {
   "cell_type": "code",
   "execution_count": 13,
   "id": "e33436ae",
   "metadata": {},
   "outputs": [
    {
     "data": {
      "image/png": "[encoded data removed]",
      "text/plain": [
       "<Figure size 640x480 with 1 Axes>"
      ]
     },
     "metadata": {},
     "output_type": "display_data"
    }
   ],
   "source": [
    "plt.figure()\n",
    "sns.countplot(\n",
    "    y=\"Color\", \n",
    "    hue=\"Device Type\", \n",
    "    data=df,\n",
    "    order=df[\"Color\"].value_counts().iloc[:10].index\n",
    ")\n",
    "plt.grid(True)"
   ]
  },
  {
   "cell_type": "code",
   "execution_count": 14,
   "id": "d81a9a98",
   "metadata": {},
   "outputs": [
    {
     "data": {
      "text/plain": [
       "Strap Material\n",
       "Silicone                      232\n",
       "Stainless Steel                97\n",
       "Leather                        59\n",
       "Aluminium                      57\n",
       "Elastomer                      45\n",
       "Thermoplastic polyurethane     33\n",
       "Plastic                        16\n",
       "Nylon                          12\n",
       "Rubber                         11\n",
       "Fabric                          1\n",
       "Name: Strap Material, dtype: int64"
      ]
     },
     "execution_count": 14,
     "metadata": {},
     "output_type": "execute_result"
    }
   ],
   "source": [
    "df['Strap Material'].groupby(df['Strap Material']).count().sort_values(ascending=False).iloc[:10]"
   ]
  },
  {
   "cell_type": "code",
   "execution_count": 15,
   "id": "ab45dc62",
   "metadata": {},
   "outputs": [
    {
     "data": {
      "text/plain": [
       "<Axes: xlabel='count', ylabel='Strap Material'>"
      ]
     },
     "execution_count": 15,
     "metadata": {},
     "output_type": "execute_result"
    },
    {
     "data": {
      "image/png": "[encoded data removed]",
      "text/plain": [
       "<Figure size 640x480 with 1 Axes>"
      ]
     },
     "metadata": {},
     "output_type": "display_data"
    }
   ],
   "source": [
    "sns.countplot(\n",
    "    y=\"Strap Material\",\n",
    "    hue=\"Device Type\", \n",
    "    data=df,\n",
    "    order=df[\"Strap Material\"].value_counts().iloc[:5].index\n",
    ")"
   ]
  },
  {
   "cell_type": "code",
   "execution_count": 16,
   "id": "6cd7e4c5",
   "metadata": {},
   "outputs": [
    {
     "name": "stdout",
     "output_type": "stream",
     "text": [
      "<class 'pandas.core.frame.DataFrame'>\n",
      "RangeIndex: 565 entries, 0 to 564\n",
      "Data columns (total 10 columns):\n",
      " #   Column                          Non-Null Count  Dtype  \n",
      "---  ------                          --------------  -----  \n",
      " 0   Brand Name                      565 non-null    object \n",
      " 1   Device Type                     565 non-null    object \n",
      " 2   Model Name                      565 non-null    object \n",
      " 3   Color                           565 non-null    object \n",
      " 4   Selling Price                   565 non-null    int64  \n",
      " 5   Original Price                  565 non-null    int64  \n",
      " 6   Display                         565 non-null    object \n",
      " 7   Rating (Out of 5)               565 non-null    float64\n",
      " 8   Strap Material                  565 non-null    object \n",
      " 9   Average Battery Life (in days)  565 non-null    int64  \n",
      "dtypes: float64(1), int64(3), object(6)\n",
      "memory usage: 44.3+ KB\n"
     ]
    }
   ],
   "source": [
    "y = df['Device Type']\n",
    "X = df.drop('Device Type', axis=1)\n",
    "categorical_features = [col for col in X.columns if X[col].dtype == 'object']\n",
    "df.info()"
   ]
  },
  {
   "cell_type": "code",
   "execution_count": 17,
   "id": "7e69588a",
   "metadata": {},
   "outputs": [
    {
     "data": {
      "text/html": [
       "<div>\n",
       "<style scoped>\n",
       "    .dataframe tbody tr th:only-of-type {\n",
       "        vertical-align: middle;\n",
       "    }\n",
       "\n",
       "    .dataframe tbody tr th {\n",
       "        vertical-align: top;\n",
       "    }\n",
       "\n",
       "    .dataframe thead th {\n",
       "        text-align: right;\n",
       "    }\n",
       "</style>\n",
       "<table border=\"1\" class=\"dataframe\">\n",
       "  <thead>\n",
       "    <tr style=\"text-align: right;\">\n",
       "      <th></th>\n",
       "      <th>Brand Name</th>\n",
       "      <th>Device Type</th>\n",
       "      <th>Model Name</th>\n",
       "      <th>Color</th>\n",
       "      <th>Display</th>\n",
       "      <th>Strap Material</th>\n",
       "    </tr>\n",
       "  </thead>\n",
       "  <tbody>\n",
       "    <tr>\n",
       "      <th>0</th>\n",
       "      <td>Xiaomi</td>\n",
       "      <td>FitnessBand</td>\n",
       "      <td>Smart Band 5</td>\n",
       "      <td>Black</td>\n",
       "      <td>AMOLED Display</td>\n",
       "      <td>Thermoplastic polyurethane</td>\n",
       "    </tr>\n",
       "    <tr>\n",
       "      <th>1</th>\n",
       "      <td>Xiaomi</td>\n",
       "      <td>FitnessBand</td>\n",
       "      <td>Smart Band 4</td>\n",
       "      <td>Black</td>\n",
       "      <td>AMOLED Display</td>\n",
       "      <td>Thermoplastic polyurethane</td>\n",
       "    </tr>\n",
       "    <tr>\n",
       "      <th>2</th>\n",
       "      <td>Xiaomi</td>\n",
       "      <td>FitnessBand</td>\n",
       "      <td>HMSH01GE</td>\n",
       "      <td>Black</td>\n",
       "      <td>LCD Display</td>\n",
       "      <td>Leather</td>\n",
       "    </tr>\n",
       "    <tr>\n",
       "      <th>3</th>\n",
       "      <td>Xiaomi</td>\n",
       "      <td>FitnessBand</td>\n",
       "      <td>Smart Band 5</td>\n",
       "      <td>Black</td>\n",
       "      <td>AMOLED Display</td>\n",
       "      <td>Thermoplastic polyurethane</td>\n",
       "    </tr>\n",
       "    <tr>\n",
       "      <th>4</th>\n",
       "      <td>Xiaomi</td>\n",
       "      <td>FitnessBand</td>\n",
       "      <td>Band 3</td>\n",
       "      <td>Black</td>\n",
       "      <td>OLED Display</td>\n",
       "      <td>Plastic</td>\n",
       "    </tr>\n",
       "    <tr>\n",
       "      <th>...</th>\n",
       "      <td>...</td>\n",
       "      <td>...</td>\n",
       "      <td>...</td>\n",
       "      <td>...</td>\n",
       "      <td>...</td>\n",
       "      <td>...</td>\n",
       "    </tr>\n",
       "    <tr>\n",
       "      <th>560</th>\n",
       "      <td>Huawei</td>\n",
       "      <td>Smartwatch</td>\n",
       "      <td>Watch 36456</td>\n",
       "      <td>Black</td>\n",
       "      <td>AMOLED Display</td>\n",
       "      <td>Silicone</td>\n",
       "    </tr>\n",
       "    <tr>\n",
       "      <th>561</th>\n",
       "      <td>Huawei</td>\n",
       "      <td>Smartwatch</td>\n",
       "      <td>GT Fortuna-B19S Sport</td>\n",
       "      <td>Black</td>\n",
       "      <td>AMOLED Display</td>\n",
       "      <td>Elastomer</td>\n",
       "    </tr>\n",
       "    <tr>\n",
       "      <th>562</th>\n",
       "      <td>GOQii</td>\n",
       "      <td>FitnessBand</td>\n",
       "      <td>HR</td>\n",
       "      <td>Black</td>\n",
       "      <td>OLED Display</td>\n",
       "      <td>Silicone</td>\n",
       "    </tr>\n",
       "    <tr>\n",
       "      <th>563</th>\n",
       "      <td>GOQii</td>\n",
       "      <td>FitnessBand</td>\n",
       "      <td>Vital</td>\n",
       "      <td>Black</td>\n",
       "      <td>OLED Display</td>\n",
       "      <td>Thermoplastic polyurethane</td>\n",
       "    </tr>\n",
       "    <tr>\n",
       "      <th>564</th>\n",
       "      <td>FOSSIL</td>\n",
       "      <td>Smartwatch</td>\n",
       "      <td>Gen 5E</td>\n",
       "      <td>Grey, Multicolor</td>\n",
       "      <td>AMOLED Display</td>\n",
       "      <td>Stainless Steel</td>\n",
       "    </tr>\n",
       "  </tbody>\n",
       "</table>\n",
       "<p>565 rows × 6 columns</p>\n",
       "</div>"
      ],
      "text/plain": [
       "    Brand Name  Device Type             Model Name             Color  \\\n",
       "0       Xiaomi  FitnessBand           Smart Band 5             Black   \n",
       "1       Xiaomi  FitnessBand           Smart Band 4             Black   \n",
       "2       Xiaomi  FitnessBand               HMSH01GE             Black   \n",
       "3       Xiaomi  FitnessBand           Smart Band 5             Black   \n",
       "4       Xiaomi  FitnessBand                 Band 3             Black   \n",
       "..         ...          ...                    ...               ...   \n",
       "560     Huawei   Smartwatch            Watch 36456             Black   \n",
       "561     Huawei   Smartwatch  GT Fortuna-B19S Sport             Black   \n",
       "562      GOQii  FitnessBand                     HR             Black   \n",
       "563      GOQii  FitnessBand                  Vital             Black   \n",
       "564    FOSSIL    Smartwatch                 Gen 5E  Grey, Multicolor   \n",
       "\n",
       "            Display              Strap Material  \n",
       "0    AMOLED Display  Thermoplastic polyurethane  \n",
       "1    AMOLED Display  Thermoplastic polyurethane  \n",
       "2       LCD Display                     Leather  \n",
       "3    AMOLED Display  Thermoplastic polyurethane  \n",
       "4      OLED Display                     Plastic  \n",
       "..              ...                         ...  \n",
       "560  AMOLED Display                    Silicone  \n",
       "561  AMOLED Display                   Elastomer  \n",
       "562    OLED Display                    Silicone  \n",
       "563    OLED Display  Thermoplastic polyurethane  \n",
       "564  AMOLED Display             Stainless Steel  \n",
       "\n",
       "[565 rows x 6 columns]"
      ]
     },
     "execution_count": 17,
     "metadata": {},
     "output_type": "execute_result"
    }
   ],
   "source": [
    "df.select_dtypes(include=['object'])"
   ]
  },
  {
   "cell_type": "code",
   "execution_count": 18,
   "id": "157136a7",
   "metadata": {},
   "outputs": [
    {
     "data": {
      "text/plain": [
       "'Точность модели: 0.9734513274336283'"
      ]
     },
     "execution_count": 18,
     "metadata": {},
     "output_type": "execute_result"
    }
   ],
   "source": [
    "import pandas as pd\n",
    "from catboost import CatBoostClassifier\n",
    "from sklearn.metrics import accuracy_score\n",
    "from sklearn.model_selection import train_test_split\n",
    "from sklearn.metrics import classification_report, roc_auc_score\n",
    "from sklearn.preprocessing import LabelEncoder\n",
    "\n",
    "categorical_features_indices = ['Brand Name', 'Model Name', 'Color', 'Display', 'Strap Material']\n",
    "X_train, X_test, y_train, y_test = train_test_split(X, y, test_size=0.2, random_state=42)\n",
    "\n",
    "model = CatBoostClassifier(\n",
    "    cat_features=categorical_features_indices,\n",
    "    verbose=0,\n",
    "    random_seed=42)\n",
    "model.fit(X_train, y_train)\n",
    "\n",
    "y_pred = model.predict(X_test)\n",
    "accuracy = accuracy_score(y_test, y_pred)\n",
    "f\"Точность модели: {accuracy}\""
   ]
  },
  {
   "cell_type": "code",
   "execution_count": 19,
   "id": "e3f01a37",
   "metadata": {},
   "outputs": [
    {
     "data": {
      "text/html": [
       "<div>\n",
       "<style scoped>\n",
       "    .dataframe tbody tr th:only-of-type {\n",
       "        vertical-align: middle;\n",
       "    }\n",
       "\n",
       "    .dataframe tbody tr th {\n",
       "        vertical-align: top;\n",
       "    }\n",
       "\n",
       "    .dataframe thead th {\n",
       "        text-align: right;\n",
       "    }\n",
       "</style>\n",
       "<table border=\"1\" class=\"dataframe\">\n",
       "  <thead>\n",
       "    <tr style=\"text-align: right;\">\n",
       "      <th></th>\n",
       "      <th>Feature Id</th>\n",
       "      <th>Importances</th>\n",
       "    </tr>\n",
       "  </thead>\n",
       "  <tbody>\n",
       "    <tr>\n",
       "      <th>0</th>\n",
       "      <td>Brand Name</td>\n",
       "      <td>23.671977</td>\n",
       "    </tr>\n",
       "    <tr>\n",
       "      <th>1</th>\n",
       "      <td>Original Price</td>\n",
       "      <td>20.277672</td>\n",
       "    </tr>\n",
       "    <tr>\n",
       "      <th>2</th>\n",
       "      <td>Display</td>\n",
       "      <td>18.714235</td>\n",
       "    </tr>\n",
       "    <tr>\n",
       "      <th>3</th>\n",
       "      <td>Strap Material</td>\n",
       "      <td>12.082517</td>\n",
       "    </tr>\n",
       "    <tr>\n",
       "      <th>4</th>\n",
       "      <td>Selling Price</td>\n",
       "      <td>10.847560</td>\n",
       "    </tr>\n",
       "    <tr>\n",
       "      <th>5</th>\n",
       "      <td>Average Battery Life (in days)</td>\n",
       "      <td>6.138505</td>\n",
       "    </tr>\n",
       "    <tr>\n",
       "      <th>6</th>\n",
       "      <td>Color</td>\n",
       "      <td>3.469276</td>\n",
       "    </tr>\n",
       "    <tr>\n",
       "      <th>7</th>\n",
       "      <td>Model Name</td>\n",
       "      <td>2.688633</td>\n",
       "    </tr>\n",
       "    <tr>\n",
       "      <th>8</th>\n",
       "      <td>Rating (Out of 5)</td>\n",
       "      <td>2.109625</td>\n",
       "    </tr>\n",
       "  </tbody>\n",
       "</table>\n",
       "</div>"
      ],
      "text/plain": [
       "                       Feature Id  Importances\n",
       "0                      Brand Name    23.671977\n",
       "1                  Original Price    20.277672\n",
       "2                         Display    18.714235\n",
       "3                  Strap Material    12.082517\n",
       "4                   Selling Price    10.847560\n",
       "5  Average Battery Life (in days)     6.138505\n",
       "6                           Color     3.469276\n",
       "7                      Model Name     2.688633\n",
       "8               Rating (Out of 5)     2.109625"
      ]
     },
     "execution_count": 19,
     "metadata": {},
     "output_type": "execute_result"
    }
   ],
   "source": [
    "feature_importances = model.get_feature_importance(prettified=True)\n",
    "feature_importances"
   ]
  }
 ],
 "metadata": {
  "kernelspec": {
   "display_name": ".venv",
   "language": "python",
   "name": "python3"
  },
  "language_info": {
   "codemirror_mode": {
    "name": "ipython",
    "version": 3
   },
   "file_extension": ".py",
   "mimetype": "text/x-python",
   "name": "python",
   "nbconvert_exporter": "python",
   "pygments_lexer": "ipython3",
   "version": "3.10.4"
  }
 },
 "nbformat": 4,
 "nbformat_minor": 5
}
